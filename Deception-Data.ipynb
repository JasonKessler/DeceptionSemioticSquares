{
 "cells": [
  {
   "cell_type": "code",
   "execution_count": 1,
   "metadata": {},
   "outputs": [
    {
     "data": {
      "text/html": [
       "<style>.container { width:98% !important; }</style>"
      ],
      "text/plain": [
       "<IPython.core.display.HTML object>"
      ]
     },
     "metadata": {},
     "output_type": "display_data"
    }
   ],
   "source": [
    "import pandas as pd\n",
    "import numpy as np\n",
    "import spacy\n",
    "import codecs\n",
    "import io\n",
    "import csv\n",
    "import scattertext as st\n",
    "import requests\n",
    "import tarfile\n",
    "from IPython.display import IFrame\n",
    "from IPython.core.display import display, HTML\n",
    "display(HTML(\"<style>.container { width:98% !important; }</style>\"))\n",
    "import matplotlib.pyplot as plt\n",
    "%matplotlib inline "
   ]
  },
  {
   "cell_type": "code",
   "execution_count": 2,
   "metadata": {},
   "outputs": [],
   "source": [
    "assert st.__version__ >= '0.0.2.19'"
   ]
  },
  {
   "cell_type": "markdown",
   "metadata": {},
   "source": [
    "From: http://web.eecs.umich.edu/~mihalcea/downloads.html\n",
    "\n",
    "Open-Domain Deception\n",
    "This is a crowdsourced deception dataset consisting of short open domain truths and lies from 512 users. Seven lies and seven truths are provided for each user. The dataset also includes user's demographic information, such as gender, age, country of origin, and education level. download (August 27, 2015)\n",
    "\n",
    "Veronica Perez-Rosas and Rada Mihalcea, Experiments in Open Domain Deception Detection, in Proceedings of the Conference on Empirical Methods in Natural Language Processing (EMNLP 2015), Lisbon, Portugal, September 2015.\n"
   ]
  },
  {
   "cell_type": "code",
   "execution_count": 3,
   "metadata": {},
   "outputs": [],
   "source": [
    "r = requests.get('http://web.eecs.umich.edu/~mihalcea/downloads/openDeception.2015.tar.gz')\n",
    "tarball = tarfile.open(mode=\"r:gz\", fileobj = io.BytesIO(r.content))"
   ]
  },
  {
   "cell_type": "code",
   "execution_count": 42,
   "metadata": {},
   "outputs": [],
   "source": [
    "# work with oddly formatted csv\n",
    "raw = tarball.extractfile('OpenDeception/7Truth7LiesDataset.csv')\n",
    "data = []\n",
    "for i, line in enumerate(raw.read().decode('utf8').split('\\n')[1:]):\n",
    "    row = list(csv.reader(io.StringIO(line)))\n",
    "    if(len(row)) == 0: continue\n",
    "    row = row[0]\n",
    "    d = {}\n",
    "    d['id'] = row[0]\n",
    "    d['_gender'] = row[1]\n",
    "    d['age'] = row[2]\n",
    "    nexti = 4\n",
    "    if row[3][0] == \"'\":\n",
    "        edu = []\n",
    "        for r in row[3:]:\n",
    "            edu.append(r)\n",
    "            if r[-1] == \"'\": break\n",
    "            nexti += 1\n",
    "        d['education'] = ','.join(edu)[1:-1]\n",
    "    else:\n",
    "        d['education'] = ','.join(row[3])\n",
    "    d['country'] = row[nexti]\n",
    "    d['text'] = '\\n'.join(row[nexti+1:-1])\n",
    "    d['class'] = row[-1]\n",
    "    data.append(d)\n",
    "df = pd.DataFrame(data)"
   ]
  },
  {
   "cell_type": "code",
   "execution_count": 43,
   "metadata": {},
   "outputs": [
    {
     "name": "stderr",
     "output_type": "stream",
     "text": [
      "/Users/kesslej/anaconda3/envs/py36/lib/python3.6/site-packages/ipykernel/__main__.py:1: DeprecationWarning: invalid escape sequence '\\%'\n",
      "  if __name__ == '__main__':\n"
     ]
    }
   ],
   "source": [
    "df['parse'] = df.text.apply(lambda x: st.whitespace_nlp_with_sentences(codecs.escape_decode(bytes(x, \"utf-8\"))[0].decode(\"utf-8\")))"
   ]
  },
  {
   "cell_type": "code",
   "execution_count": 6,
   "metadata": {},
   "outputs": [],
   "source": [
    "corpus = st.CorpusFromParsedDocuments(df, category_col='class', parsed_col='parse').build()"
   ]
  },
  {
   "cell_type": "code",
   "execution_count": 23,
   "metadata": {},
   "outputs": [],
   "source": [
    "html = st.produce_frequency_explorer(corpus, 'lie', term_scorer = st.LogOddsRatioUninformativeDirichletPrior(), grey_threshold=10, censor_points=False)"
   ]
  },
  {
   "cell_type": "code",
   "execution_count": 24,
   "metadata": {},
   "outputs": [
    {
     "data": {
      "text/html": [
       "\n",
       "        <iframe\n",
       "            width=\"1600\"\n",
       "            height=\"700\"\n",
       "            src=\"lie_vs_truth.html\"\n",
       "            frameborder=\"0\"\n",
       "            allowfullscreen\n",
       "        ></iframe>\n",
       "        "
      ],
      "text/plain": [
       "<IPython.lib.display.IFrame at 0x12236dc88>"
      ]
     },
     "execution_count": 24,
     "metadata": {},
     "output_type": "execute_result"
    }
   ],
   "source": [
    "file_name = 'lie_vs_truth.html'\n",
    "open(file_name, 'wb').write(html.encode('utf-8'))\n",
    "IFrame(src=file_name, width = 1600, height=700)"
   ]
  },
  {
   "cell_type": "code",
   "execution_count": 67,
   "metadata": {},
   "outputs": [
    {
     "data": {
      "text/plain": [
       "(5306, 5306)"
      ]
     },
     "execution_count": 67,
     "metadata": {},
     "output_type": "execute_result"
    }
   ],
   "source": [
    "df['countryfmt'] = df.country.apply(lambda x: x.lower().replace('.','').replace(' ','').replace(\"'\",''))\n",
    "us_df=df[df.countryfmt.isin(['usa', 'unitedstates', 'unitedstatesofamerica', 'us', 'america', 'canada', 'uk', 'unitedkingdom', 'england'])]\n",
    "len(us_df.parse), len(us_df.parse.dropna())"
   ]
  },
  {
   "cell_type": "code",
   "execution_count": null,
   "metadata": {},
   "outputs": [],
   "source": []
  },
  {
   "cell_type": "code",
   "execution_count": 68,
   "metadata": {},
   "outputs": [],
   "source": [
    "us_df['category'] = us_df['_gender'] + ' ' + us_df['class']\n",
    "four_square_corpus = st.CorpusFromParsedDocuments(us_df, category_col='category', parsed_col='parse').build().get_unigram_corpus()"
   ]
  },
  {
   "cell_type": "code",
   "execution_count": 69,
   "metadata": {},
   "outputs": [],
   "source": [
    "four_square = st.FourSquare(\n",
    "    four_square_corpus,\n",
    "    category_a_list=['Female truth'],\n",
    "    category_b_list=['Female lie'],\n",
    "    not_category_a_list=['Male lie'],\n",
    "    not_category_b_list=['Male truth'],\n",
    "    scorer=st.RankDifference(),\n",
    "    labels={'a': '',\n",
    "            'b': '',\n",
    "            'not_a_and_not_b': 'Male',\n",
    "            'a_and_b': 'Female',\n",
    "            'a_and_not_b': 'Truth',\n",
    "            'b_and_not_a': 'Lie',\n",
    "            'not_a': '',\n",
    "            'not_b': '',\n",
    "            }\n",
    ")"
   ]
  },
  {
   "cell_type": "code",
   "execution_count": 80,
   "metadata": {},
   "outputs": [],
   "source": [
    "display_df = four_square_corpus.get_df()\n",
    "meta = display_df['id'] + ', ' + display_df['country'] + ', Age: ' + display_df['age']\n",
    "html = st.produce_four_square_explorer(four_square=four_square,\n",
    "                                       x_label='Truth-Lie',\n",
    "                                       y_label='Male-Female',\n",
    "                                       use_full_doc=True,\n",
    "                                       minimum_term_frequency=2,\n",
    "                                       metadata=meta)"
   ]
  },
  {
   "cell_type": "code",
   "execution_count": 81,
   "metadata": {},
   "outputs": [
    {
     "data": {
      "text/html": [
       "\n",
       "        <iframe\n",
       "            width=\"1600\"\n",
       "            height=\"700\"\n",
       "            src=\"lie_vs_truth_four_square.html\"\n",
       "            frameborder=\"0\"\n",
       "            allowfullscreen\n",
       "        ></iframe>\n",
       "        "
      ],
      "text/plain": [
       "<IPython.lib.display.IFrame at 0x12d6fe0f0>"
      ]
     },
     "execution_count": 81,
     "metadata": {},
     "output_type": "execute_result"
    }
   ],
   "source": [
    "file_name = 'lie_vs_truth_four_square.html'\n",
    "open(file_name, 'wb').write(html.encode('utf-8'))\n",
    "IFrame(src=file_name, width = 1600, height=700)"
   ]
  },
  {
   "cell_type": "code",
   "execution_count": null,
   "metadata": {},
   "outputs": [],
   "source": []
  }
 ],
 "metadata": {
  "anaconda-cloud": {},
  "kernelspec": {
   "display_name": "Python [py36]",
   "language": "python",
   "name": "Python [py36]"
  },
  "language_info": {
   "codemirror_mode": {
    "name": "ipython",
    "version": 3
   },
   "file_extension": ".py",
   "mimetype": "text/x-python",
   "name": "python",
   "nbconvert_exporter": "python",
   "pygments_lexer": "ipython3",
   "version": "3.6.1"
  }
 },
 "nbformat": 4,
 "nbformat_minor": 2
}
